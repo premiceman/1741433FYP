{
  "nbformat": 4,
  "nbformat_minor": 0,
  "metadata": {
    "colab": {
      "name": "FYPMachineLearningNB.ipynb",
      "provenance": [],
      "mount_file_id": "1JmiNANh_ACsDNPxeUaATL5vDXA2xrhMk",
      "authorship_tag": "ABX9TyP7WhTW6Y1iG+TqDF6tHD2k",
      "include_colab_link": true
    },
    "kernelspec": {
      "name": "python3",
      "display_name": "Python 3"
    },
    "language_info": {
      "name": "python"
    }
  },
  "cells": [
    {
      "cell_type": "markdown",
      "metadata": {
        "id": "view-in-github",
        "colab_type": "text"
      },
      "source": [
        "<a href=\"https://colab.research.google.com/github/premiceman/1741433FYP/blob/main/FYPMachineLearningNB.ipynb\" target=\"_parent\"><img src=\"https://colab.research.google.com/assets/colab-badge.svg\" alt=\"Open In Colab\"/></a>"
      ]
    },
    {
      "cell_type": "code",
      "execution_count": 14,
      "metadata": {
        "colab": {
          "base_uri": "https://localhost:8080/"
        },
        "id": "GMfsJ9v_vsZd",
        "outputId": "85cca7ab-dddc-4764-b661-5fcb91bc512a"
      },
      "outputs": [
        {
          "output_type": "stream",
          "name": "stdout",
          "text": [
            "[nltk_data] Downloading package stopwords to /root/nltk_data...\n",
            "[nltk_data]   Package stopwords is already up-to-date!\n",
            "[nltk_data] Downloading package wordnet to /root/nltk_data...\n",
            "[nltk_data]   Package wordnet is already up-to-date!\n",
            "[nltk_data] Downloading package punkt to /root/nltk_data...\n",
            "[nltk_data]   Package punkt is already up-to-date!\n",
            "[nltk_data] Downloading package averaged_perceptron_tagger to\n",
            "[nltk_data]     /root/nltk_data...\n",
            "[nltk_data]   Package averaged_perceptron_tagger is already up-to-\n",
            "[nltk_data]       date!\n"
          ]
        }
      ],
      "source": [
        "import sys\n",
        "import pandas\n",
        "import nltk\n",
        "nltk.download('stopwords')\n",
        "nltk.download('wordnet')\n",
        "nltk.download('punkt')\n",
        "nltk.download('averaged_perceptron_tagger') \n",
        "from nltk.corpus import stopwords\n",
        "from nltk.stem import WordNetLemmatizer\n",
        "from nltk import sent_tokenize, word_tokenize\n",
        "import pandas as pd\n",
        "import csv\n",
        "import parser\n",
        "import re\n",
        "\n",
        "from sklearn.feature_extraction.text import TfidfVectorizer\n",
        "from sklearn.feature_extraction.text import CountVectorizer\n",
        "from sklearn.feature_extraction.text import TfidfTransformer\n",
        "from sklearn.metrics import accuracy_score\n",
        "\n",
        "from sklearn.linear_model import PassiveAggressiveClassifier\n",
        "from sklearn.linear_model import LogisticRegression\n",
        "from sklearn.model_selection import train_test_split\n",
        "from sklearn.metrics import accuracy_score, confusion_matrix\n",
        "from sklearn.model_selection import cross_val_score\n",
        "from sklearn.ensemble import RandomForestClassifier\n",
        "\n",
        "from sklearn.naive_bayes import MultinomialNB\n",
        "from sklearn.tree import DecisionTreeClassifier\n"
      ]
    },
    {
      "cell_type": "code",
      "source": [
        "df=pd.read_csv('/content/drive/MyDrive/Colab Notebooks/train.csv' , engine='python', sep = ',', error_bad_lines=False)\n",
        "convert_val = {0: 'Real', 1: 'Fake'}\n",
        "df['label'] = df['label'].replace(convert_val)\n",
        "print(df.label.value_counts())\n",
        "print(df)"
      ],
      "metadata": {
        "colab": {
          "base_uri": "https://localhost:8080/"
        },
        "id": "yne7jfe9wjni",
        "outputId": "edcd4d1d-ec3f-4150-fa23-15f70bffdf88"
      },
      "execution_count": 15,
      "outputs": [
        {
          "output_type": "stream",
          "name": "stderr",
          "text": [
            "/usr/local/lib/python3.7/dist-packages/IPython/core/interactiveshell.py:2882: FutureWarning: The error_bad_lines argument has been deprecated and will be removed in a future version.\n",
            "\n",
            "\n",
            "  exec(code_obj, self.user_global_ns, self.user_ns)\n"
          ]
        },
        {
          "output_type": "stream",
          "name": "stdout",
          "text": [
            "Fake    2030\n",
            "Real    1962\n",
            "Name: label, dtype: int64\n",
            "        id  ... label\n",
            "0        0  ...  Fake\n",
            "1        1  ...  Real\n",
            "2        2  ...  Fake\n",
            "3        3  ...  Fake\n",
            "4        4  ...  Fake\n",
            "...    ...  ...   ...\n",
            "3987  3987  ...  Fake\n",
            "3988  3988  ...  Real\n",
            "3989  3989  ...  Fake\n",
            "3990  3990  ...  Real\n",
            "3991  3991  ...  Fake\n",
            "\n",
            "[3992 rows x 5 columns]\n"
          ]
        },
        {
          "output_type": "stream",
          "name": "stderr",
          "text": [
            "Skipping line 3994: unexpected end of data\n"
          ]
        }
      ]
    },
    {
      "cell_type": "code",
      "source": [
        "x_train, x_test, y_train, y_test = train_test_split(df['text'], df['label'], test_size=0.25, random_state=7, shuffle=True)\n",
        "tfidf_vectorizer = TfidfVectorizer(stop_words='english', max_df=0.75)\n",
        "\n",
        "vec_train=tfidf_vectorizer.fit_transform(x_train.values.astype('U'))\n",
        "vec_test=tfidf_vectorizer.transform(x_test.values.astype('U'))"
      ],
      "metadata": {
        "id": "J1OOaELmwwel"
      },
      "execution_count": 16,
      "outputs": []
    },
    {
      "cell_type": "code",
      "source": [
        "##Passive Aggressive Classifier\n",
        "pac=PassiveAggressiveClassifier(max_iter=50)\n",
        "pac.fit(vec_train,y_train)\n",
        "\n",
        "y_pred=pac.predict(vec_test)\n",
        "score=accuracy_score(y_test, y_pred)\n",
        "print(f'PAC Accuracy: {round(score*100,2)}%')\n",
        "\n",
        "print(confusion_matrix(y_test,y_pred,labels=('Real','Fake')))"
      ],
      "metadata": {
        "colab": {
          "base_uri": "https://localhost:8080/"
        },
        "id": "3l6HbrkIxqNa",
        "outputId": "67e97c08-5c1a-4eac-a629-8108890d62b1"
      },
      "execution_count": 26,
      "outputs": [
        {
          "output_type": "stream",
          "name": "stdout",
          "text": [
            "PAC Accuracy: 93.69%\n",
            "[[469  34]\n",
            " [ 29 466]]\n"
          ]
        }
      ]
    },
    {
      "cell_type": "code",
      "source": [
        "##Decision Tree\n",
        "clf = DecisionTreeClassifier()\n",
        "clf.fit(vec_train, y_train)\n",
        "DTAccuracy = clf.score(vec_test, y_test)\n",
        "print(f'Decision Tree Accuracy: {round(DTAccuracy * 100,2)}%')\n"
      ],
      "metadata": {
        "colab": {
          "base_uri": "https://localhost:8080/"
        },
        "id": "saT7Ee5Rx3SF",
        "outputId": "69b7aba6-923a-479b-96f1-c61cd1fd6a6f"
      },
      "execution_count": 22,
      "outputs": [
        {
          "output_type": "stream",
          "name": "stdout",
          "text": [
            "Decision Tree Accuracy: 84.27%\n"
          ]
        }
      ]
    },
    {
      "cell_type": "code",
      "source": [
        "##Naive-Bayes Model\n",
        "NB = MultinomialNB()\n",
        "NB.fit(vec_train, y_train)\n",
        "NBAccuracy = NB.score(vec_test, y_test)\n",
        "print(f'Naive-Bayes Accuracy: {round(NBAccuracy * 100,2)}%')"
      ],
      "metadata": {
        "colab": {
          "base_uri": "https://localhost:8080/"
        },
        "id": "q-YK37wlycGE",
        "outputId": "e836dfc4-4261-4e2f-ac61-4b1b837f477c"
      },
      "execution_count": 21,
      "outputs": [
        {
          "output_type": "stream",
          "name": "stdout",
          "text": [
            "Naive-Bayes Accuracy: 88.48%\n"
          ]
        }
      ]
    },
    {
      "cell_type": "code",
      "source": [
        "##Logistic Regression\n",
        "logreg = LogisticRegression()\n",
        "logreg.fit(vec_train, y_train)\n",
        "LRAccuracy = logreg.score(vec_test, y_test)\n",
        "print(f'Logistic Regression Accuracy: {round(LRAccuracy * 100,2)}%')"
      ],
      "metadata": {
        "colab": {
          "base_uri": "https://localhost:8080/"
        },
        "id": "2LPO4r6kyoz3",
        "outputId": "1130b5b2-9ec6-4200-cdd2-a6b4bad80b8b"
      },
      "execution_count": 23,
      "outputs": [
        {
          "output_type": "stream",
          "name": "stdout",
          "text": [
            "Logistic Regression Accuracy: 92.59%\n"
          ]
        }
      ]
    },
    {
      "cell_type": "code",
      "source": [
        ""
      ],
      "metadata": {
        "id": "mPL7qcb1yznh"
      },
      "execution_count": 20,
      "outputs": []
    }
  ]
}